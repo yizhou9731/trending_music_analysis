{
 "cells": [
  {
   "cell_type": "code",
   "execution_count": 1,
   "metadata": {},
   "outputs": [],
   "source": [
    "import spotipy\n",
    "from spotipy.oauth2 import SpotifyClientCredentials\n",
    "import pandas as pd \n",
    "import time \n",
    "import numpy as np\n",
    "import matplotlib as plt"
   ]
  },
  {
   "cell_type": "markdown",
   "metadata": {},
   "source": [
    "## API Functions "
   ]
  },
  {
   "cell_type": "code",
   "execution_count": 2,
   "metadata": {},
   "outputs": [],
   "source": [
    "client_id     = '863cdc44aec24f7f8edd9fc259587d50'\n",
    "client_secret = 'c4858d6ae3504bf1a90ddd1e4315eabc'\n",
    "\n",
    "client_credentials_manager = SpotifyClientCredentials(client_id,client_secret)\n",
    "sp = spotipy.Spotify(client_credentials_manager=client_credentials_manager)"
   ]
  },
  {
   "cell_type": "code",
   "execution_count": 3,
   "metadata": {},
   "outputs": [],
   "source": [
    "def getTrackID(user,playlist_id):\n",
    "    id = []\n",
    "    play_list = sp.user_playlist(user,playlist_id)\n",
    "    for item in play_list['tracks']['items']:\n",
    "        track = item['track']\n",
    "        id.append(track['id'])\n",
    "    return id"
   ]
  },
  {
   "cell_type": "code",
   "execution_count": 6,
   "metadata": {},
   "outputs": [],
   "source": [
    "def getTrackFeatures(id):\n",
    "    meta = sp.track(id)\n",
    "    features = sp.audio_features(id)\n",
    "    \n",
    "    # meta data\n",
    "    name = meta['name']\n",
    "    album = meta['album']['name']\n",
    "    artist = meta['album']['artists'][0]['name']\n",
    "    release_date = meta['album']['release_date']\n",
    "    length = meta['duration_ms']\n",
    "    popularity = meta['popularity']\n",
    "    \n",
    "    # features from the data \n",
    "    acousticness = features[0]['acousticness']\n",
    "    danceability = features[0]['danceability']\n",
    "    energy = features[0]['energy']\n",
    "    instrumentalness = features[0]['instrumentalness']\n",
    "    liveness = features[0]['liveness']\n",
    "    loudness = features[0]['loudness']\n",
    "    speechiness = features[0]['speechiness']\n",
    "    tempo = features[0]['tempo']\n",
    "    time_signature = features[0]['time_signature']\n",
    "    \n",
    "    track = [name, album, artist, release_date, length, popularity, \n",
    "             acousticness,danceability, energy, instrumentalness,\n",
    "             liveness, loudness,speechiness, tempo, time_signature]\n",
    "    return track "
   ]
  },
  {
   "cell_type": "code",
   "execution_count": 10,
   "metadata": {},
   "outputs": [],
   "source": [
    "spotify_id    = getTrackID('31vx56v47zr2vk2y37l4rafhccy4','37i9dQZEVXbLp5XoPON0wI')\n",
    "tiktok_id     = getTrackID('31vx56v47zr2vk2y37l4rafhccy4','1cJhRnEsGHCrlCS8FG7lXZ')\n",
    "billboard_id  = getTrackID('31vx56v47zr2vk2y37l4rafhccy4','6UeSakyzhiEt4NB3UAd6NQ')"
   ]
  },
  {
   "cell_type": "markdown",
   "metadata": {},
   "source": [
    "## Loading Spotify Songs Data "
   ]
  },
  {
   "cell_type": "code",
   "execution_count": 26,
   "metadata": {},
   "outputs": [],
   "source": [
    "## looping over track spotify_id to get spotify trending songs \n",
    "## If errors occur such as time-out, please run this code again! Sometime it takes 3-4 time to successfully load all data \n",
    "\n",
    "tracks = []\n",
    "for i in range(len(spotify_id)):\n",
    "    time.sleep(.5)\n",
    "    track = getTrackFeatures(spotify_id[i])\n",
    "    tracks.append(track)\n",
    "    \n",
    "# create dateset\n",
    "spotify = pd.DataFrame(tracks, columns = ['name', 'album', 'artist', \n",
    "                                     'release_date', 'length', 'popularity',\n",
    "                                     'acousticness', 'danceability', 'energy', \n",
    "                                     'instrumentalness', 'liveness', 'loudness',\n",
    "                                     'speechiness', 'tempo', 'time_signature'])"
   ]
  },
  {
   "cell_type": "markdown",
   "metadata": {},
   "source": [
    "## Loading Tiktok Songs Data"
   ]
  },
  {
   "cell_type": "code",
   "execution_count": 19,
   "metadata": {},
   "outputs": [],
   "source": [
    "## looping over track tiktok_id to get tiktok trending songs \n",
    "## If errors occur such as time-out, please run this code again! Sometime it takes 3-4 time to successfully load all data \n",
    "\n",
    "tracks = []\n",
    "for i in range(len(tiktok_id)):\n",
    "    time.sleep(.5)\n",
    "    track = getTrackFeatures(tiktok_id[i])\n",
    "    tracks.append(track)\n",
    "    \n",
    "# create dateset\n",
    "tiktok = pd.DataFrame(tracks, columns = ['name', 'album', 'artist', \n",
    "                                     'release_date', 'length', 'popularity',\n",
    "                                     'acousticness', 'danceability', 'energy', \n",
    "                                     'instrumentalness', 'liveness', 'loudness',\n",
    "                                     'speechiness', 'tempo', 'time_signature'])"
   ]
  },
  {
   "cell_type": "markdown",
   "metadata": {},
   "source": [
    "## Loading Billboard Songs Data"
   ]
  },
  {
   "cell_type": "code",
   "execution_count": 20,
   "metadata": {},
   "outputs": [],
   "source": [
    "## looping over track tiktok_id to get tiktok trending songs \n",
    "## If errors occur such as time-out, please run this code again! Sometime it takes 3-4 time to successfully load all data \n",
    "\n",
    "tracks = []\n",
    "for i in range(len(billboard_id)):\n",
    "    time.sleep(.5)\n",
    "    track = getTrackFeatures(billboard_id[i])\n",
    "    tracks.append(track)\n",
    "    \n",
    "# create dateset\n",
    "billboard = pd.DataFrame(tracks, columns = ['name', 'album', 'artist', \n",
    "                                     'release_date', 'length', 'popularity',\n",
    "                                     'acousticness', 'danceability', 'energy', \n",
    "                                     'instrumentalness', 'liveness', 'loudness',\n",
    "                                     'speechiness', 'tempo', 'time_signature'])"
   ]
  },
  {
   "cell_type": "markdown",
   "metadata": {},
   "source": [
    "## Exporting Data"
   ]
  },
  {
   "cell_type": "code",
   "execution_count": 28,
   "metadata": {},
   "outputs": [],
   "source": [
    "spotify.to_csv('spotify_API.csv')\n",
    "tiktok.to_csv('tiktok_API.csv')\n",
    "billboard.to_csv('billboard_API.csv')"
   ]
  }
 ],
 "metadata": {
  "kernelspec": {
   "display_name": "Python 3",
   "language": "python",
   "name": "python3"
  },
  "language_info": {
   "codemirror_mode": {
    "name": "ipython",
    "version": 3
   },
   "file_extension": ".py",
   "mimetype": "text/x-python",
   "name": "python",
   "nbconvert_exporter": "python",
   "pygments_lexer": "ipython3",
   "version": "3.8.2"
  }
 },
 "nbformat": 4,
 "nbformat_minor": 4
}
